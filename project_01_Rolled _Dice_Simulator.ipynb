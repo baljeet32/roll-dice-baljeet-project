{
 "cells": [
  {
   "cell_type": "code",
   "execution_count": null,
   "metadata": {},
   "outputs": [
    {
     "name": "stdout",
     "output_type": "stream",
     "text": [
      " -------- \n",
      "|  0  0  |\n",
      "|  0  0  |\n",
      "|  0  0  |\n",
      " -------- \n",
      "Do You want to rolled it again : press[y]y\n",
      " ------- \n",
      "|   0   |\n",
      "|       |\n",
      "|   0   |\n",
      " ------- \n"
     ]
    }
   ],
   "source": [
    "import random as r\n",
    "def dice(x):\n",
    "    if x==1:\n",
    "        print(\" -------\")\n",
    "        print(\"|       |\")\n",
    "        print(\"|   0   |\")\n",
    "        print(\"|       |\")\n",
    "        print(\" ------- \")\n",
    "    elif x==2:\n",
    "        print(\" ------- \")\n",
    "        print(\"|   0   |\")\n",
    "        print(\"|       |\")\n",
    "        print(\"|   0   |\")\n",
    "        print(\" ------- \")\n",
    "    elif x==3:\n",
    "        print(\" ------- \")\n",
    "        print(\"|0      |\")\n",
    "        print(\"|   0   |\")\n",
    "        print(\"|      0|\")\n",
    "        print(\" ------- \")\n",
    "    elif x==4:\n",
    "        print(\" -------\")\n",
    "        print(\"|0     0|\")\n",
    "        print(\"|       |\")\n",
    "        print(\"|0     0|\")\n",
    "        print(\" ------- \")\n",
    "    elif x==5:\n",
    "        print(\" ------- \")\n",
    "        print(\"|0     0|\")\n",
    "        print(\"|   0   |\")\n",
    "        print(\"|0     0|\")\n",
    "        print(\" ------- \")\n",
    "    else:\n",
    "        print(\" -------- \")\n",
    "        print(\"|  0  0  |\")\n",
    "        print(\"|  0  0  |\")\n",
    "        print(\"|  0  0  |\")\n",
    "        print(\" -------- \")\n",
    "        \n",
    "x =r.randrange(1,7)\n",
    "dice(x)\n",
    "a =input(\"Do You want to rolled it again : press[y]\")\n",
    "while a=='y' or a=='Y':\n",
    "    x =r.randrange(1,7)\n",
    "    dice(x)\n",
    "    a =input(\"Do You want to rolled it again : press[y]\")\n"
   ]
  },
  {
   "cell_type": "code",
   "execution_count": null,
   "metadata": {},
   "outputs": [],
   "source": []
  }
 ],
 "metadata": {
  "kernelspec": {
   "display_name": "Python 3",
   "language": "python",
   "name": "python3"
  },
  "language_info": {
   "codemirror_mode": {
    "name": "ipython",
    "version": 3
   },
   "file_extension": ".py",
   "mimetype": "text/x-python",
   "name": "python",
   "nbconvert_exporter": "python",
   "pygments_lexer": "ipython3",
   "version": "3.8.5"
  }
 },
 "nbformat": 4,
 "nbformat_minor": 4
}
